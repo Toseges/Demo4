{
 "cells": [
  {
   "cell_type": "code",
   "execution_count": null,
   "id": "3d4ff8a8",
   "metadata": {},
   "outputs": [],
   "source": []
  },
  {
   "cell_type": "code",
   "execution_count": null,
   "id": "b0fe7994",
   "metadata": {},
   "outputs": [],
   "source": []
  },
  {
   "cell_type": "code",
   "execution_count": null,
   "id": "31316f2c",
   "metadata": {},
   "outputs": [],
   "source": []
  },
  {
   "cell_type": "code",
   "execution_count": null,
   "id": "b0f342fc",
   "metadata": {},
   "outputs": [],
   "source": []
  },
  {
   "cell_type": "code",
   "execution_count": null,
   "id": "1f5a1f3e",
   "metadata": {},
   "outputs": [],
   "source": []
  },
  {
   "cell_type": "code",
   "execution_count": null,
   "id": "03d42428",
   "metadata": {},
   "outputs": [],
   "source": [
    "\n"
   ]
  },
  {
   "cell_type": "code",
   "execution_count": 2,
   "id": "24ac673d",
   "metadata": {},
   "outputs": [],
   "source": [
    "name = 'Ade'\n",
    "age = 25"
   ]
  },
  {
   "cell_type": "code",
   "execution_count": 4,
   "id": "52b8f423",
   "metadata": {},
   "outputs": [
    {
     "name": "stdout",
     "output_type": "stream",
     "text": [
      "Ade\n",
      "25\n"
     ]
    }
   ],
   "source": [
    "print(name)\n",
    "print(age)"
   ]
  },
  {
   "cell_type": "code",
   "execution_count": 5,
   "id": "8a12d5ee",
   "metadata": {},
   "outputs": [],
   "source": [
    "# data types\n",
    "\n",
    "#strings\n",
    "# int\n",
    "# float\n",
    "# boolean\n",
    "# lists\n",
    "# dictionaries\n",
    "# tuples\n"
   ]
  },
  {
   "cell_type": "code",
   "execution_count": 6,
   "id": "95effaec",
   "metadata": {},
   "outputs": [
    {
     "name": "stdout",
     "output_type": "stream",
     "text": [
      "<class 'str'>\n"
     ]
    }
   ],
   "source": [
    "print(type(name))"
   ]
  },
  {
   "cell_type": "code",
   "execution_count": 7,
   "id": "6e9cc0a5",
   "metadata": {},
   "outputs": [
    {
     "name": "stdout",
     "output_type": "stream",
     "text": [
      "<class 'int'>\n",
      "<class 'str'>\n"
     ]
    }
   ],
   "source": [
    "age_1 = 25\n",
    "age_2 = '25'\n",
    "\n",
    "print(type(age_1))\n",
    "print(type(age_2))"
   ]
  },
  {
   "cell_type": "code",
   "execution_count": 8,
   "id": "96f71859",
   "metadata": {},
   "outputs": [
    {
     "name": "stdout",
     "output_type": "stream",
     "text": [
      "<class 'float'>\n"
     ]
    }
   ],
   "source": [
    "weight = 35.5\n",
    "\n",
    "print (type(weight))"
   ]
  },
  {
   "cell_type": "code",
   "execution_count": 9,
   "id": "fb3fd2ba",
   "metadata": {},
   "outputs": [
    {
     "name": "stdout",
     "output_type": "stream",
     "text": [
      "<class 'bool'>\n"
     ]
    }
   ],
   "source": [
    "married = True\n",
    "print (type(married))"
   ]
  },
  {
   "cell_type": "code",
   "execution_count": 10,
   "id": "d439508b",
   "metadata": {},
   "outputs": [],
   "source": [
    "# built in functions\n",
    "\n",
    "# functions are things in programming language that helps one to perform a task or sets of task\n",
    "\n",
    "#Built in functions are functions that comes with python e.g print() to output stuffs, \n",
    "#str()- change data type to string, int()- change any data to integer, float(), type()- tell data type, sum() get total\n",
    "# input()- used to accept user input.\n"
   ]
  },
  {
   "cell_type": "code",
   "execution_count": 11,
   "id": "45033ef9",
   "metadata": {},
   "outputs": [
    {
     "name": "stdout",
     "output_type": "stream",
     "text": [
      "<class 'int'>\n",
      "<class 'int'>\n"
     ]
    }
   ],
   "source": [
    "age = 35\n",
    "print(type(age)) #level 1\n",
    "\n",
    "str(age) #converting age to string. This concept is called type casting\n",
    "print(type(age)) #level 2"
   ]
  },
  {
   "cell_type": "code",
   "execution_count": null,
   "id": "0d377b9a",
   "metadata": {},
   "outputs": [],
   "source": []
  },
  {
   "cell_type": "code",
   "execution_count": 13,
   "id": "0b8bb68f",
   "metadata": {},
   "outputs": [
    {
     "name": "stdout",
     "output_type": "stream",
     "text": [
      "Enter your name: Sola\n",
      "Enter your age: 45\n",
      " welcome Sola, you are 45 years old\n"
     ]
    }
   ],
   "source": [
    "## First program\n",
    "name = input('Enter your name: ') # we accepted their name\n",
    "age = input ('Enter your age: ') # we accepted their age\n",
    "\n",
    "print(f' welcome {name}, you are {age} years old') # we printed the info"
   ]
  },
  {
   "cell_type": "code",
   "execution_count": 1,
   "id": "f7db29f7",
   "metadata": {},
   "outputs": [
    {
     "name": "stdout",
     "output_type": "stream",
     "text": [
      "Enter your name: Tosin\n",
      "Enter your age: 28\n",
      " welcomeTosin, you are 28 years old\n"
     ]
    }
   ],
   "source": [
    "name = input ('Enter your name: ')\n",
    "age = input ('Enter your age: ')\n",
    "\n",
    "print(f' welcome{name}, you are {age} years old')"
   ]
  },
  {
   "cell_type": "code",
   "execution_count": 14,
   "id": "1dfd897a",
   "metadata": {},
   "outputs": [
    {
     "name": "stdout",
     "output_type": "stream",
     "text": [
      "Tosin\n",
      "35\n"
     ]
    }
   ],
   "source": [
    "name = input()\n",
    "age = input ()\n"
   ]
  },
  {
   "cell_type": "code",
   "execution_count": 2,
   "id": "f14e59ad",
   "metadata": {},
   "outputs": [
    {
     "name": "stdout",
     "output_type": "stream",
     "text": [
      "Tosin\n",
      "28\n"
     ]
    }
   ],
   "source": [
    "name = input ()\n",
    "age = input ()"
   ]
  },
  {
   "cell_type": "code",
   "execution_count": 16,
   "id": "24af1498",
   "metadata": {},
   "outputs": [
    {
     "data": {
      "text/plain": [
       "4"
      ]
     },
     "execution_count": 16,
     "metadata": {},
     "output_type": "execute_result"
    }
   ],
   "source": [
    "# arithmetric operators\n",
    "\n",
    "4/2 # normal division\n",
    "33//7 #floor division i.e it gives the whole number, but does not round up the decimal\n"
   ]
  },
  {
   "cell_type": "code",
   "execution_count": 17,
   "id": "e57593bd",
   "metadata": {},
   "outputs": [
    {
     "data": {
      "text/plain": [
       "5"
      ]
     },
     "execution_count": 17,
     "metadata": {},
     "output_type": "execute_result"
    }
   ],
   "source": [
    "33 % 7 # modulus or remainder i.e it gives the remainder value after division "
   ]
  },
  {
   "cell_type": "code",
   "execution_count": 18,
   "id": "754423f9",
   "metadata": {},
   "outputs": [
    {
     "data": {
      "text/plain": [
       "6"
      ]
     },
     "execution_count": 18,
     "metadata": {},
     "output_type": "execute_result"
    }
   ],
   "source": [
    "2* 3 # multiplication\n"
   ]
  },
  {
   "cell_type": "code",
   "execution_count": 19,
   "id": "987dd1fc",
   "metadata": {},
   "outputs": [
    {
     "data": {
      "text/plain": [
       "8"
      ]
     },
     "execution_count": 19,
     "metadata": {},
     "output_type": "execute_result"
    }
   ],
   "source": [
    "2**3 # power of 3"
   ]
  },
  {
   "cell_type": "code",
   "execution_count": 23,
   "id": "4cf77e6e",
   "metadata": {},
   "outputs": [
    {
     "name": "stdout",
     "output_type": "stream",
     "text": [
      "enter your name: Tosin\n",
      "enter your year of birth: 1945\n",
      "Hi, Tosin, you are 78 years old\n"
     ]
    }
   ],
   "source": [
    "# writing a program that accept someone's year of birth and returns their age\n",
    "\n",
    "name = input('enter your name: ') # accepted their name as saved it in the variable called name\n",
    "yob = input ('enter your year of birth: ') #  accepeted their year of birth and saved it in variable yob\n",
    "\n",
    "yob = int(yob) # convert the accepted year of birrth from string to their integer\n",
    "\n",
    "age = 2023 - yob # calculate their age by subtracting the yob from the current year 2023\n",
    "\n",
    "print (f'Hi, {name}, you are {age} years old') "
   ]
  },
  {
   "cell_type": "code",
   "execution_count": 25,
   "id": "53f80f17",
   "metadata": {},
   "outputs": [
    {
     "name": "stdout",
     "output_type": "stream",
     "text": [
      "Enter number of days: 234\n",
      "<class 'str'>\n"
     ]
    }
   ],
   "source": [
    "## write a week/ day converter program\n",
    "\n",
    "value = input ('Enter number of days: ')\n",
    "\n",
    "print(type(value))"
   ]
  },
  {
   "cell_type": "code",
   "execution_count": 29,
   "id": "0fdcc6c5",
   "metadata": {},
   "outputs": [
    {
     "data": {
      "text/plain": [
       "int"
      ]
     },
     "execution_count": 29,
     "metadata": {},
     "output_type": "execute_result"
    }
   ],
   "source": [
    "value = int (value) # This concept is called variable overriding\n",
    "type(value)"
   ]
  },
  {
   "cell_type": "code",
   "execution_count": 31,
   "id": "f51b8a29",
   "metadata": {},
   "outputs": [
    {
     "name": "stdout",
     "output_type": "stream",
     "text": [
      "Enter number of days: 57\n",
      "57 days is 8 weeks and 1 days\n"
     ]
    }
   ],
   "source": [
    "value = input ('Enter number of days: ')\n",
    "\n",
    "value = int(value)\n",
    "\n",
    "weeks = value // 7\n",
    "days = value % 7\n",
    "\n",
    "print (f'{value} days is {weeks} weeks and {days} days')\n",
    "\n"
   ]
  },
  {
   "cell_type": "code",
   "execution_count": 32,
   "id": "442cac53",
   "metadata": {},
   "outputs": [],
   "source": [
    "# Exercise: write a currency coverter program. \n",
    "# Convert from Naira to dollar\n",
    "#Set a rate value\n",
    "#Input user conversion amount\n"
   ]
  },
  {
   "cell_type": "code",
   "execution_count": 33,
   "id": "1afaf86d",
   "metadata": {},
   "outputs": [
    {
     "name": "stdout",
     "output_type": "stream",
     "text": [
      " Enter the amount in Naira: 100000\n",
      "100000 Naira is 149 dollars and 617 cents\n"
     ]
    }
   ],
   "source": [
    "value = input(' Enter the amount in Naira: ') # The amount to be converted to dollars\n",
    "value = int(value) # converting dollar value to numerical value\n",
    "#conversion rate = $667\n",
    "\n",
    "dollar = value//667\n",
    "cent = value%667\n",
    "\n",
    "print(f'{value} Naira is {dollar} dollars and {cent} cents')\n",
    "\n"
   ]
  },
  {
   "cell_type": "code",
   "execution_count": 34,
   "id": "5e745c30",
   "metadata": {},
   "outputs": [],
   "source": [
    "# write a BMI calculator\n",
    "#expected output: name, BMI\n"
   ]
  },
  {
   "cell_type": "code",
   "execution_count": 38,
   "id": "6fc40e68",
   "metadata": {},
   "outputs": [
    {
     "name": "stdout",
     "output_type": "stream",
     "text": [
      "Enter your name: Tosin\n",
      "Enter your weight in kg: 65.50\n",
      "Enter your height in m: 1.65\n",
      " Hi Tosin your BMI is 24.05876951331497\n"
     ]
    }
   ],
   "source": [
    "name = input('Enter your name: ')\n",
    "\n",
    "weight = input('Enter your weight in kg: ')\n",
    "\n",
    "weight = float(weight)\n",
    "\n",
    "height = input('Enter your height in m: ')\n",
    "\n",
    "height = float(height)\n",
    "\n",
    "bmi= (weight/(height**2))\n",
    "\n",
    "print(f' Hi {name} your BMI is {bmi}')"
   ]
  },
  {
   "cell_type": "code",
   "execution_count": 1,
   "id": "ccc4c41b",
   "metadata": {},
   "outputs": [],
   "source": [
    "#Assignment 1: write a loan interest calculator \n",
    "# Return both interest and the amount payable, \n",
    "\n",
    "# 2: Write a program that calculate the area of a triangle\n",
    "\n",
    "# 3: Write a program that solves a quadratic equation, it will accept values a,b,c and returns the factors of the equation\n",
    "# using the general quadratic formular."
   ]
  },
  {
   "cell_type": "code",
   "execution_count": 4,
   "id": "8018d998",
   "metadata": {},
   "outputs": [
    {
     "name": "stdout",
     "output_type": "stream",
     "text": [
      "Enter your name: James\n",
      "Enter the amount you want to borrow in $: 1000\n",
      "Enter your rate in %: 0.06\n",
      "payment duration: 3\n",
      " Hi James your interest is 180.0\n"
     ]
    }
   ],
   "source": [
    "# write a loan interest calculator\n",
    "\n",
    "name = input('Enter your name: ')\n",
    "\n",
    "principal = input('Enter the amount you want to borrow in $: ')\n",
    "\n",
    "principal = float(principal)\n",
    "\n",
    "rate = input('Enter your rate in %: ')\n",
    "\n",
    "rate = float(rate)\n",
    "\n",
    "year = input('payment duration: ')\n",
    "\n",
    "year = int(year)\n",
    "\n",
    "interest = (principal * rate * year)\n",
    "\n",
    "print(f' Hi {name} your interest is {interest}')"
   ]
  },
  {
   "cell_type": "code",
   "execution_count": 7,
   "id": "09843425",
   "metadata": {},
   "outputs": [
    {
     "name": "stdout",
     "output_type": "stream",
     "text": [
      "Enter the base value in cm: 4\n",
      "Enter the height value in cm: 3\n",
      " The area of a triangle is 6.0 cm/**2\n"
     ]
    }
   ],
   "source": [
    "# 2: Write a program that calculate the area of a triangle\n",
    "\n",
    "base= input('Enter the base value in cm: ')\n",
    "\n",
    "base= float(base)\n",
    "\n",
    "height= input('Enter the height value in cm: ')\n",
    "\n",
    "height = float(height)\n",
    "\n",
    "area = (0.5 * base * height)\n",
    "\n",
    "area = float(area)\n",
    "\n",
    "print(f' The area of a triangle is {area} cm/**2')"
   ]
  },
  {
   "cell_type": "code",
   "execution_count": null,
   "id": "505115c9",
   "metadata": {},
   "outputs": [],
   "source": [
    "#Write a program that solves a quadratic equation, it will accept values a,b,c and returns the factors of the equation\n",
    "# using the general quadratic formular.\n",
    "\n"
   ]
  }
 ],
 "metadata": {
  "kernelspec": {
   "display_name": "Python 3 (ipykernel)",
   "language": "python",
   "name": "python3"
  },
  "language_info": {
   "codemirror_mode": {
    "name": "ipython",
    "version": 3
   },
   "file_extension": ".py",
   "mimetype": "text/x-python",
   "name": "python",
   "nbconvert_exporter": "python",
   "pygments_lexer": "ipython3",
   "version": "3.11.5"
  }
 },
 "nbformat": 4,
 "nbformat_minor": 5
}
