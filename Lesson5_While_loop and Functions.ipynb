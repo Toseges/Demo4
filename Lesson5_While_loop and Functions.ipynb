{
 "cells": [
  {
   "cell_type": "code",
   "execution_count": 2,
   "id": "c4082b42",
   "metadata": {},
   "outputs": [],
   "source": [
    "####WHILE LOOPS AND FUNCTIONS\n"
   ]
  },
  {
   "cell_type": "code",
   "execution_count": 4,
   "id": "fe1f992c",
   "metadata": {},
   "outputs": [],
   "source": [
    "# write a program that accepts two numbers and returns the sum"
   ]
  },
  {
   "cell_type": "markdown",
   "id": "791b86a8",
   "metadata": {},
   "source": [
    "num_1 = int(input('enter the first number'))\n",
    "num_2 = int(input('enter second number'))"
   ]
  },
  {
   "cell_type": "code",
   "execution_count": 5,
   "id": "816a2c49",
   "metadata": {},
   "outputs": [
    {
     "name": "stdout",
     "output_type": "stream",
     "text": [
      "enter the first number5\n",
      "enter second number6\n",
      "The sum of 5 and 6 is 11\n"
     ]
    }
   ],
   "source": [
    "num_1 = int(input('enter the first number'))\n",
    "num_2 = int(input('enter second number'))\n",
    "\n",
    "print(f'The sum of {num_1} and {num_2} is {num_1 + num_2}')"
   ]
  },
  {
   "cell_type": "code",
   "execution_count": null,
   "id": "fa0aa801",
   "metadata": {},
   "outputs": [],
   "source": [
    "#This runs just one, but with while loop we tell the operation to keep running until the break condition is reached,\n",
    "#if there  is no break condition, it runs forever.\n",
    "#Below we will write a while loop\n",
    "#first set a condition outside\n"
   ]
  },
  {
   "cell_type": "code",
   "execution_count": 7,
   "id": "68a065fe",
   "metadata": {},
   "outputs": [
    {
     "name": "stdout",
     "output_type": "stream",
     "text": [
      "do you want to continue\n",
      "yes\n",
      "enter the first number5\n",
      "enter second number6\n",
      "The sum of 5 and 6 is 11\n",
      "do you want to continue\n",
      "no\n",
      "thanks for using the app\n"
     ]
    }
   ],
   "source": [
    "quit = 'done' #The condition is set\n",
    "\n",
    "while True: \n",
    "    print('do you want to continue')\n",
    "    decision = input()\n",
    "    if decision == 'yes':\n",
    "        num_1 = int(input('enter the first number'))\n",
    "        num_2 = int(input('enter second number'))\n",
    "\n",
    "        print(f'The sum of {num_1} and {num_2} is {num_1 + num_2}')\n",
    "    else: \n",
    "        print('thanks for using the app')\n",
    "        break"
   ]
  },
  {
   "cell_type": "code",
   "execution_count": 8,
   "id": "5209c30e",
   "metadata": {},
   "outputs": [],
   "source": [
    "#The above example has just one break condition, which is until the user says no\n"
   ]
  },
  {
   "cell_type": "code",
   "execution_count": 9,
   "id": "48d045bb",
   "metadata": {},
   "outputs": [],
   "source": [
    "# We can rewrite that there should be a break when an number of attempt is used. i.e we decide the number of time\n",
    "# we want to be used"
   ]
  },
  {
   "cell_type": "code",
   "execution_count": 12,
   "id": "c843647d",
   "metadata": {},
   "outputs": [
    {
     "name": "stdout",
     "output_type": "stream",
     "text": [
      "enter the first number5\n",
      "enter second number4\n",
      "The sum of 5 and 4 is 9\n",
      "enter the first number5\n",
      "enter second number11\n",
      "The sum of 5 and 11 is 16\n",
      "enter the first number10\n",
      "enter second number12\n",
      "The sum of 10 and 12 is 22\n",
      "thank you, you have used app more than 3 times\n"
     ]
    }
   ],
   "source": [
    "attempt = 0\n",
    "while True:\n",
    "    if attempt <=2:\n",
    "        num_1 = int(input('enter the first number'))\n",
    "        num_2 = int(input('enter second number'))\n",
    "\n",
    "        print(f'The sum of {num_1} and {num_2} is {num_1 + num_2}')\n",
    "        attempt += 1 #This add one to the attempt\n",
    "    else:\n",
    "        print('thank you, you have used app more than 3 times')\n",
    "        break\n"
   ]
  },
  {
   "cell_type": "code",
   "execution_count": 14,
   "id": "3b3577dd",
   "metadata": {},
   "outputs": [],
   "source": [
    "## Write a function that greets someone\n",
    "# We start with the def function\n",
    "# #Followed by the name of the function, then the parameter\n",
    "\n",
    "def greet (name): # name is a parameter, a parameter is what makes a function work. \n",
    "    greetings = f'Hi {name}, how are you?'\n",
    "    return greetings #After running this function, nothing happens until we call it"
   ]
  },
  {
   "cell_type": "code",
   "execution_count": 15,
   "id": "a8a875d3",
   "metadata": {},
   "outputs": [
    {
     "data": {
      "text/plain": [
       "'Hi segun, how are you?'"
      ]
     },
     "execution_count": 15,
     "metadata": {},
     "output_type": "execute_result"
    }
   ],
   "source": [
    "greet(name = 'segun') # Now we call it"
   ]
  },
  {
   "cell_type": "code",
   "execution_count": 16,
   "id": "0d7459e3",
   "metadata": {},
   "outputs": [],
   "source": [
    "# write a function that performs some user registration and returns the number of the registered users(need a while loop)"
   ]
  },
  {
   "cell_type": "code",
   "execution_count": null,
   "id": "be1f3660",
   "metadata": {},
   "outputs": [],
   "source": [
    "#Creating a function called sign up\n",
    "def signup():\n",
    "    database\n",
    "    username = input('choose a nice user name: ')\n",
    "    #Let's take a break to refresh on dictionary"
   ]
  },
  {
   "cell_type": "code",
   "execution_count": 17,
   "id": "95536c20",
   "metadata": {},
   "outputs": [],
   "source": [
    "# Recap of dictionary: A dictionary takes data in two value pairs compared to list or tuple\n",
    "menu = {\n",
    "    'beans': 200,\n",
    "    'rice' : 100,\n",
    "    'chicken': 1000\n",
    "}"
   ]
  },
  {
   "cell_type": "code",
   "execution_count": 18,
   "id": "2e352e4a",
   "metadata": {},
   "outputs": [
    {
     "data": {
      "text/plain": [
       "{'beans': 200, 'rice': 100, 'chicken': 1000}"
      ]
     },
     "execution_count": 18,
     "metadata": {},
     "output_type": "execute_result"
    }
   ],
   "source": [
    "menu"
   ]
  },
  {
   "cell_type": "code",
   "execution_count": 19,
   "id": "e740e3c3",
   "metadata": {},
   "outputs": [
    {
     "name": "stdout",
     "output_type": "stream",
     "text": [
      "<class 'dict'>\n"
     ]
    }
   ],
   "source": [
    "#Menu is a dictionary\n",
    "\n",
    "print(type(menu))\n"
   ]
  },
  {
   "cell_type": "code",
   "execution_count": 20,
   "id": "617086a8",
   "metadata": {},
   "outputs": [
    {
     "data": {
      "text/plain": [
       "dict_keys(['beans', 'rice', 'chicken'])"
      ]
     },
     "execution_count": 20,
     "metadata": {},
     "output_type": "execute_result"
    }
   ],
   "source": [
    "menu.keys()\n"
   ]
  },
  {
   "cell_type": "code",
   "execution_count": 21,
   "id": "f772d1c4",
   "metadata": {},
   "outputs": [
    {
     "data": {
      "text/plain": [
       "dict_items([('beans', 200), ('rice', 100), ('chicken', 1000)])"
      ]
     },
     "execution_count": 21,
     "metadata": {},
     "output_type": "execute_result"
    }
   ],
   "source": [
    "menu.items()\n"
   ]
  },
  {
   "cell_type": "code",
   "execution_count": 22,
   "id": "5deeca27",
   "metadata": {},
   "outputs": [
    {
     "data": {
      "text/plain": [
       "dict_values([200, 100, 1000])"
      ]
     },
     "execution_count": 22,
     "metadata": {},
     "output_type": "execute_result"
    }
   ],
   "source": [
    "menu.values()"
   ]
  },
  {
   "cell_type": "code",
   "execution_count": 23,
   "id": "61f1328e",
   "metadata": {},
   "outputs": [
    {
     "data": {
      "text/plain": [
       "100"
      ]
     },
     "execution_count": 23,
     "metadata": {},
     "output_type": "execute_result"
    }
   ],
   "source": [
    "menu['rice']"
   ]
  },
  {
   "cell_type": "code",
   "execution_count": 24,
   "id": "4565abd6",
   "metadata": {},
   "outputs": [],
   "source": [
    "# we want to add turkey to our menu\n",
    "\n",
    "menu.update({'turkey': 2000})"
   ]
  },
  {
   "cell_type": "code",
   "execution_count": 25,
   "id": "4c7fb2a2",
   "metadata": {},
   "outputs": [
    {
     "data": {
      "text/plain": [
       "dict_items([('beans', 200), ('rice', 100), ('chicken', 1000), ('turkey', 2000)])"
      ]
     },
     "execution_count": 25,
     "metadata": {},
     "output_type": "execute_result"
    }
   ],
   "source": [
    "menu.items()"
   ]
  },
  {
   "cell_type": "code",
   "execution_count": 26,
   "id": "3f586072",
   "metadata": {},
   "outputs": [
    {
     "name": "stdout",
     "output_type": "stream",
     "text": [
      "beans is 200 naira\n",
      "rice is 100 naira\n",
      "chicken is 1000 naira\n",
      "turkey is 2000 naira\n"
     ]
    }
   ],
   "source": [
    "## How do we look through a dictionary\n",
    "\n",
    "for food, price in menu.items():\n",
    "    print (f'{food} is {price} naira')"
   ]
  },
  {
   "cell_type": "code",
   "execution_count": 27,
   "id": "9efa92a2",
   "metadata": {},
   "outputs": [],
   "source": [
    "# write a function that performs some user registration and returns the number of the registered users\n",
    "#(need a while loop)\n"
   ]
  },
  {
   "cell_type": "code",
   "execution_count": 5,
   "id": "62ac38ad",
   "metadata": {},
   "outputs": [],
   "source": [
    "#Creating a function called sign up\n",
    "def signup():\n",
    "    quit = 'done'\n",
    "    database = {}\n",
    "    while True:\n",
    "        username = input('choose a nice user name or \"done\" to quit: ')\n",
    "        if username == quit:\n",
    "            print('Thanks for registering')\n",
    "            break\n",
    "        else:\n",
    "            if username in database.keys():\n",
    "                print('username already exists choose another')\n",
    "            else:\n",
    "                password = input ('enter a password')\n",
    "                database.update({username:password})\n",
    "    users = list(database.keys())\n",
    "    \n",
    "    return len(users)"
   ]
  },
  {
   "cell_type": "code",
   "execution_count": 6,
   "id": "781dc344",
   "metadata": {},
   "outputs": [
    {
     "name": "stdout",
     "output_type": "stream",
     "text": [
      "choose a nice user name or \"done\" to quit: wale\n",
      "enter a password234\n",
      "choose a nice user name or \"done\" to quit: Kate\n",
      "enter a password35\n",
      "choose a nice user name or \"done\" to quit: Kay\n",
      "enter a password355\n",
      "choose a nice user name or \"done\" to quit: done\n",
      "Thanks for registering\n"
     ]
    },
    {
     "data": {
      "text/plain": [
       "3"
      ]
     },
     "execution_count": 6,
     "metadata": {},
     "output_type": "execute_result"
    }
   ],
   "source": [
    "signup()"
   ]
  }
 ],
 "metadata": {
  "kernelspec": {
   "display_name": "Python 3 (ipykernel)",
   "language": "python",
   "name": "python3"
  },
  "language_info": {
   "codemirror_mode": {
    "name": "ipython",
    "version": 3
   },
   "file_extension": ".py",
   "mimetype": "text/x-python",
   "name": "python",
   "nbconvert_exporter": "python",
   "pygments_lexer": "ipython3",
   "version": "3.11.5"
  }
 },
 "nbformat": 4,
 "nbformat_minor": 5
}
